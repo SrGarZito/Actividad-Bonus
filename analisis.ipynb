{
 "cells": [
  {
   "cell_type": "code",
   "execution_count": 5,
   "metadata": {},
   "outputs": [],
   "source": [
    "# Librería de pandas para modificar los datos\n",
    "import pandas as pd\n",
    "\n",
    "# Limpieza de datos (Duplicados, NaN)\n",
    "df = pd.read_csv('animes.csv')\n",
    "df = df[['title', 'score', 'popularity']]\n",
    "df = df.sort_values('popularity').drop_duplicates().dropna()\n",
    "df = df.sort_values('popularity', ascending=True).head(5)\n",
    "\n",
    "# Guardado de DataFrame en .csv\n",
    "df.to_csv('dataset.csv')"
   ]
  }
 ],
 "metadata": {
  "kernelspec": {
   "display_name": "Python 3",
   "language": "python",
   "name": "python3"
  },
  "language_info": {
   "codemirror_mode": {
    "name": "ipython",
    "version": 3
   },
   "file_extension": ".py",
   "mimetype": "text/x-python",
   "name": "python",
   "nbconvert_exporter": "python",
   "pygments_lexer": "ipython3",
   "version": "3.10.12"
  }
 },
 "nbformat": 4,
 "nbformat_minor": 2
}
